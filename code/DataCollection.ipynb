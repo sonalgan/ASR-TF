{
 "cells": [
  {
   "cell_type": "code",
   "execution_count": 68,
   "metadata": {},
   "outputs": [
    {
     "ename": "ModuleNotFoundError",
     "evalue": "No module named 'webdriver'",
     "output_type": "error",
     "traceback": [
      "\u001b[1;31m---------------------------------------------------------------------------\u001b[0m",
      "\u001b[1;31mModuleNotFoundError\u001b[0m                       Traceback (most recent call last)",
      "\u001b[1;32m~\\AppData\\Local\\Temp/ipykernel_2852/3283729316.py\u001b[0m in \u001b[0;36m<module>\u001b[1;34m\u001b[0m\n\u001b[0;32m      9\u001b[0m \u001b[1;32mimport\u001b[0m \u001b[0mlxml\u001b[0m\u001b[1;33m\u001b[0m\u001b[1;33m\u001b[0m\u001b[0m\n\u001b[0;32m     10\u001b[0m \u001b[1;32mfrom\u001b[0m \u001b[0mwebdriver_manager\u001b[0m\u001b[1;33m.\u001b[0m\u001b[0mchrome\u001b[0m \u001b[1;32mimport\u001b[0m \u001b[0mChromeDriverManager\u001b[0m\u001b[1;33m\u001b[0m\u001b[1;33m\u001b[0m\u001b[0m\n\u001b[1;32m---> 11\u001b[1;33m \u001b[1;32mfrom\u001b[0m \u001b[0mwebdriver\u001b[0m\u001b[1;33m.\u001b[0m\u001b[0mcommon\u001b[0m\u001b[1;33m.\u001b[0m\u001b[0mby\u001b[0m \u001b[1;32mimport\u001b[0m \u001b[0mBy\u001b[0m\u001b[1;33m\u001b[0m\u001b[1;33m\u001b[0m\u001b[0m\n\u001b[0m\u001b[0;32m     12\u001b[0m \u001b[1;32mfrom\u001b[0m \u001b[0mwebdriver\u001b[0m\u001b[1;33m.\u001b[0m\u001b[0msupport\u001b[0m\u001b[1;33m.\u001b[0m\u001b[0mui\u001b[0m \u001b[1;32mimport\u001b[0m \u001b[0mWebDriverWait\u001b[0m\u001b[1;33m\u001b[0m\u001b[1;33m\u001b[0m\u001b[0m\n\u001b[0;32m     13\u001b[0m \u001b[1;32mfrom\u001b[0m \u001b[0mselenium\u001b[0m\u001b[1;33m.\u001b[0m\u001b[0mwebdriver\u001b[0m\u001b[1;33m.\u001b[0m\u001b[0msupport\u001b[0m \u001b[1;32mimport\u001b[0m \u001b[0mexpected_conditions\u001b[0m \u001b[1;32mas\u001b[0m \u001b[0mEC\u001b[0m\u001b[1;33m\u001b[0m\u001b[1;33m\u001b[0m\u001b[0m\n",
      "\u001b[1;31mModuleNotFoundError\u001b[0m: No module named 'webdriver'"
     ]
    }
   ],
   "source": [
    "#import sys\n",
    "#sys.path.insert(0,r'C:/Userssonal/.wdm/drivers/chromedriver/win32/94.0.4606.61/chromedriver.exe')\n",
    "import urllib\n",
    "import scipy\n",
    "from bs4 import *\n",
    "import requests\n",
    "from selenium import webdriver\n",
    "import os\n",
    "import lxml\n",
    "from webdriver_manager.chrome import ChromeDriverManager\n",
    "from selenium.webdriver.common.by import By\n",
    "from selenium.webdriver.support.ui import WebDriverWait\n",
    "from selenium.webdriver.support import expected_conditions as EC\n",
    "from webdriver_manager.chrome import ChromeDriverManager\n",
    "from bs4 import BeautifulSoup\n",
    "options = webdriver.ChromeOptions()\n",
    "options.add_argument('--headless')\n",
    "options.add_argument('--no-sandbox')\n",
    "options.add_argument('--disable-dev-shm-usage')"
   ]
  },
  {
   "cell_type": "code",
   "execution_count": 21,
   "metadata": {},
   "outputs": [
    {
     "data": {
      "text/plain": [
       "['C:/Userssonal/.wdm/drivers/chromedriver/win32/94.0.4606.61',\n",
       " '/usr/lib/chromium-browser/chromedriver',\n",
       " 'c:\\\\Users\\\\sonal\\\\Documents\\\\ASR-TF\\\\code',\n",
       " 'c:\\\\Users\\\\sonal\\\\.vscode\\\\extensions\\\\ms-toolsai.jupyter-2021.9.1101343141\\\\pythonFiles',\n",
       " 'c:\\\\Users\\\\sonal\\\\.vscode\\\\extensions\\\\ms-toolsai.jupyter-2021.9.1101343141\\\\pythonFiles\\\\lib\\\\python',\n",
       " 'c:\\\\users\\\\sonal\\\\appdata\\\\local\\\\programs\\\\python\\\\python38\\\\python38.zip',\n",
       " 'c:\\\\users\\\\sonal\\\\appdata\\\\local\\\\programs\\\\python\\\\python38\\\\DLLs',\n",
       " 'c:\\\\users\\\\sonal\\\\appdata\\\\local\\\\programs\\\\python\\\\python38\\\\lib',\n",
       " 'c:\\\\users\\\\sonal\\\\appdata\\\\local\\\\programs\\\\python\\\\python38',\n",
       " 'c:\\\\Users\\\\sonal\\\\Documents\\\\ASR-TF\\\\venv',\n",
       " '',\n",
       " 'c:\\\\Users\\\\sonal\\\\Documents\\\\ASR-TF\\\\venv\\\\lib\\\\site-packages',\n",
       " 'c:\\\\Users\\\\sonal\\\\Documents\\\\ASR-TF\\\\venv\\\\lib\\\\site-packages\\\\win32',\n",
       " 'c:\\\\Users\\\\sonal\\\\Documents\\\\ASR-TF\\\\venv\\\\lib\\\\site-packages\\\\win32\\\\lib',\n",
       " 'c:\\\\Users\\\\sonal\\\\Documents\\\\ASR-TF\\\\venv\\\\lib\\\\site-packages\\\\Pythonwin',\n",
       " 'c:\\\\Users\\\\sonal\\\\Documents\\\\ASR-TF\\\\venv\\\\lib\\\\site-packages\\\\IPython\\\\extensions',\n",
       " 'C:\\\\Users\\\\sonal\\\\.ipython']"
      ]
     },
     "execution_count": 21,
     "metadata": {},
     "output_type": "execute_result"
    }
   ],
   "source": [
    "sys.path"
   ]
  },
  {
   "cell_type": "code",
   "execution_count": 7,
   "metadata": {},
   "outputs": [
    {
     "name": "stderr",
     "output_type": "stream",
     "text": [
      "[WDM] - \n",
      "\n",
      "[WDM] - ====== WebDriver manager ======\n",
      "[WDM] - Current google-chrome version is 94.0.4606\n",
      "[WDM] - Get LATEST driver version for 94.0.4606\n",
      "[WDM] - There is no [win32] chromedriver for browser 94.0.4606 in cache\n",
      "[WDM] - Get LATEST driver version for 94.0.4606\n",
      "[WDM] - Trying to download new driver from https://chromedriver.storage.googleapis.com/94.0.4606.61/chromedriver_win32.zip\n",
      "[WDM] - Driver has been saved in cache [C:\\Users\\sonal\\.wdm\\drivers\\chromedriver\\win32\\94.0.4606.61]\n",
      "C:\\Users\\sonal\\AppData\\Local\\Temp/ipykernel_11068/2160715986.py:4: DeprecationWarning: executable_path has been deprecated, please pass in a Service object\n",
      "  driver = webdriver.Chrome(ChromeDriverManager().install())\n"
     ]
    }
   ],
   "source": [
    "\n",
    "\n",
    "#Install Chromedriver and note the path of executable file(.exe)\n",
    "driver = webdriver.Chrome(ChromeDriverManager().install())\n",
    "executable_path=r'C:/Users/sonal/.wdm/drivers/chromedriver/win32/94.0.4606.61/chromedriver.exe'"
   ]
  },
  {
   "cell_type": "code",
   "execution_count": 67,
   "metadata": {},
   "outputs": [],
   "source": [
    "\n",
    "if not os.path.isdir('audio'):\n",
    "    os.mkdir('audio')"
   ]
  },
  {
   "cell_type": "code",
   "execution_count": 65,
   "metadata": {},
   "outputs": [
    {
     "name": "stdout",
     "output_type": "stream",
     "text": [
      "0\n"
     ]
    },
    {
     "name": "stderr",
     "output_type": "stream",
     "text": [
      "C:\\Users\\sonal\\AppData\\Local\\Temp/ipykernel_2852/225289669.py:25: DeprecationWarning: executable_path has been deprecated, please pass in a Service object\n",
      "  browser = webdriver.Chrome(r'C:/Users/sonal/.wdm/drivers/chromedriver/win32/94.0.4606.61/chromedriver.exe',options=options)\n"
     ]
    },
    {
     "name": "stdout",
     "output_type": "stream",
     "text": [
      "John Greenman\n",
      "CJ Plogue\n",
      "Bellona Times\n"
     ]
    }
   ],
   "source": [
    "\n",
    "\n",
    "\n",
    "names = []\n",
    "temp_name = \"\"\n",
    "temp_size = \"\"\n",
    "counter = 1\n",
    "for i in range(0, 1):\n",
    "    print(i)\n",
    "    url=\"https://librivox.org/search?title=&author=&reader=&keywords=&genre_id=0&status=complete&project_type=solo&recorded_language=&sort_order=alpha&search_page={}&search_form=advanced\".format(i)\n",
    "    \n",
    "    browser = webdriver.Chrome(executable_path,options=options)\n",
    "    browser.get(url)\n",
    "\n",
    "    element = WebDriverWait(browser, 10).until(\n",
    "        EC.presence_of_element_located((By.CLASS_NAME , \"catalog-result\"))\n",
    "    )\n",
    "\n",
    "    html = browser.page_source\n",
    "    soup = BeautifulSoup(html, 'html5lib')    \n",
    "\n",
    "    links = []\n",
    "    EXCEPTION_FLAG=0  #To skip first search result\n",
    "    for litag in soup.find_all('li', {'class': \"catalog-result\"}):\n",
    "        if(EXCEPTION_FLAG==0):\n",
    "            EXCEPTION_FLAG+=1\n",
    "            continue\n",
    "        h = litag.find('h3')\n",
    "        browser.get(h.a['href'])\n",
    "        html2 = browser.page_source\n",
    "        soup2 = BeautifulSoup(html2, 'html5lib')\n",
    "        s = soup2.find('dl', {'class': 'product-details'}) \n",
    "        target =  s.find_all('dd')\n",
    "        \n",
    "        temp_name = target[3].get_text()\n",
    "        temp_size = target[1].get_text()\n",
    "        temp_size = temp_size.replace('MB','')\n",
    "\n",
    "        if(temp_name in names):\n",
    "            continue\n",
    "        s = soup2.find('dl', {'class': 'listen-download'})\n",
    "        \n",
    "        target = s.find_all('dd')\n",
    "        \n",
    "        if float(temp_size) >= 25 and float(temp_size) <= 110:\n",
    "            links.append(target[0].a['href'])\n",
    "            names.append(temp_name)\n",
    "            print(temp_name)\n",
    "\n",
    "    browser.quit()\n"
   ]
  },
  {
   "cell_type": "code",
   "execution_count": 63,
   "metadata": {},
   "outputs": [],
   "source": [
    "    try:\n",
    "        for link in links:\n",
    "            localDestination = os.path.join(os.getcwd(),r\"audio/audio{}.wav\".format(counter))\n",
    "            \n",
    "            resultFilePath, responseHeaders = urllib.request.urlretrieve(link, localDestination)\n",
    "            counter += 1\n",
    "    except Exception:\n",
    "        pass\n",
    "        "
   ]
  },
  {
   "cell_type": "code",
   "execution_count": 46,
   "metadata": {},
   "outputs": [
    {
     "data": {
      "text/plain": [
       "[]"
      ]
     },
     "execution_count": 46,
     "metadata": {},
     "output_type": "execute_result"
    }
   ],
   "source": [
    "links"
   ]
  },
  {
   "cell_type": "code",
   "execution_count": 21,
   "metadata": {},
   "outputs": [
    {
     "data": {
      "text/plain": [
       "'c:\\\\Users\\\\sonal\\\\Documents\\\\ASR-TF\\\\code\\\\audio/audio1.wav'"
      ]
     },
     "execution_count": 21,
     "metadata": {},
     "output_type": "execute_result"
    }
   ],
   "source": [
    "os.path.join(os.getcwd(),r\"audio/audio{}.wav\".format(counter))"
   ]
  }
 ],
 "metadata": {
  "interpreter": {
   "hash": "df02104a615184a9cc1a8a3a9d688a072d29f6e898e3a78d7de2212250a866da"
  },
  "kernelspec": {
   "display_name": "Python 3.8.0 64-bit ('venv': venv)",
   "name": "python3"
  },
  "language_info": {
   "codemirror_mode": {
    "name": "ipython",
    "version": 3
   },
   "file_extension": ".py",
   "mimetype": "text/x-python",
   "name": "python",
   "nbconvert_exporter": "python",
   "pygments_lexer": "ipython3",
   "version": "3.8.0"
  },
  "orig_nbformat": 4
 },
 "nbformat": 4,
 "nbformat_minor": 2
}
