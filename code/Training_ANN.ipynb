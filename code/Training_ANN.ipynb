{
  "nbformat": 4,
  "nbformat_minor": 0,
  "metadata": {
    "kernelspec": {
      "display_name": "Environment (conda_tensorflow_p36)",
      "language": "python",
      "name": "conda_tensorflow_p36"
    },
    "language_info": {
      "codemirror_mode": {
        "name": "ipython",
        "version": 3
      },
      "file_extension": ".py",
      "mimetype": "text/x-python",
      "name": "python",
      "nbconvert_exporter": "python",
      "pygments_lexer": "ipython3",
      "version": "3.6.3"
    },
    "colab": {
      "name": "Training ANN",
      "provenance": [],
      "collapsed_sections": [],
      "toc_visible": true,
      "machine_shape": "hm"
    },
    "accelerator": "GPU"
  },
  "cells": [
    {
      "cell_type": "code",
      "metadata": {
        "colab": {
          "base_uri": "https://localhost:8080/"
        },
        "id": "sehbYgbaRTc6",
        "outputId": "59bca9d8-250f-4bd5-c6d5-d8580fdc7236"
      },
      "source": [
        "from google.colab import drive\n",
        "drive.mount('/content/drive')"
      ],
      "execution_count": 1,
      "outputs": [
        {
          "output_type": "stream",
          "text": [
            "Mounted at /content/drive\n"
          ],
          "name": "stdout"
        }
      ]
    },
    {
      "cell_type": "code",
      "metadata": {
        "id": "gXwBK2EnDRQt",
        "colab": {
          "base_uri": "https://localhost:8080/",
          "height": 111
        },
        "outputId": "b1a1c85e-a7d3-406e-a3af-baea91f6aadc"
      },
      "source": [
        "import tensorflow as tf\n",
        "tf.test.is_gpu_available()\n",
        "tf.test.gpu_device_name()"
      ],
      "execution_count": null,
      "outputs": [
        {
          "output_type": "stream",
          "text": [
            "WARNING:tensorflow:From <ipython-input-1-40c0b43f983f>:2: is_gpu_available (from tensorflow.python.framework.test_util) is deprecated and will be removed in a future version.\n",
            "Instructions for updating:\n",
            "Use `tf.config.list_physical_devices('GPU')` instead.\n"
          ],
          "name": "stdout"
        },
        {
          "output_type": "execute_result",
          "data": {
            "application/vnd.google.colaboratory.intrinsic+json": {
              "type": "string"
            },
            "text/plain": [
              "'/device:GPU:0'"
            ]
          },
          "metadata": {
            "tags": []
          },
          "execution_count": 1
        }
      ]
    },
    {
      "cell_type": "code",
      "metadata": {
        "id": "wkBJtGi8vRMu"
      },
      "source": [
        "import pandas as pd\n",
        "from sklearn.preprocessing import LabelEncoder, StandardScaler\n",
        "import numpy as np\n",
        "import csv\n",
        "from sklearn.model_selection import train_test_split\n",
        "seed=7\n",
        "from sklearn.preprocessing import label_binarize\n",
        "import random"
      ],
      "execution_count": 5,
      "outputs": []
    },
    {
      "cell_type": "code",
      "metadata": {
        "id": "_PChZW1Pu_H7"
      },
      "source": [
        "data = pd.read_csv('/content/drive/MyDrive/btech project/voice-classification-master/ann_data.csv')\n",
        "data.head()# Dropping unneccesary columns\n",
        "data = data.drop(['filename'],axis=1)#Encoding the Labels\n",
        "data=data[:-1]\n",
        "speaker_list = data.iloc[:, -1]\n",
        "encoder = LabelEncoder()\n",
        "y = encoder.fit_transform(speaker_list)#Scaling the Feature columns\n",
        "scaler = StandardScaler()\n",
        "X = scaler.fit_transform(np.array(data.iloc[:, :-1], dtype = float))#Dividing data into training and Testing set\n",
        "X_train=X\n",
        "y_train=y\n",
        "\n",
        "X_train, X_test, y_train, y_test = train_test_split(X, y, test_size=0.3,random_state=seed)\n"
      ],
      "execution_count": 27,
      "outputs": []
    },
    {
      "cell_type": "code",
      "metadata": {
        "colab": {
          "base_uri": "https://localhost:8080/"
        },
        "id": "ySO8poRna4LQ",
        "outputId": "f599e0b2-1723-4e28-85be-86e078d09dba"
      },
      "source": [
        "X.shape"
      ],
      "execution_count": null,
      "outputs": [
        {
          "output_type": "execute_result",
          "data": {
            "text/plain": [
              "(28427, 26)"
            ]
          },
          "metadata": {
            "tags": []
          },
          "execution_count": 129
        }
      ]
    },
    {
      "cell_type": "code",
      "metadata": {
        "id": "doqqK3Q7_oNK"
      },
      "source": [
        "y_test = label_binarize(y_test, classes=cls)\n",
        "n_classes = y_test.shape[1]"
      ],
      "execution_count": null,
      "outputs": []
    },
    {
      "cell_type": "code",
      "metadata": {
        "id": "Fr9FGhH1uPV_",
        "colab": {
          "base_uri": "https://localhost:8080/"
        },
        "outputId": "b2e3afb5-24d0-4ed8-fe59-7492f9613431"
      },
      "source": [
        "y_train"
      ],
      "execution_count": null,
      "outputs": [
        {
          "output_type": "execute_result",
          "data": {
            "text/plain": [
              "array([0, 0, 0, 0, 0, 0, 2, 2, 2, 2, 2, 2, 1, 1, 1, 1, 1])"
            ]
          },
          "metadata": {
            "tags": []
          },
          "execution_count": 154
        }
      ]
    },
    {
      "cell_type": "code",
      "metadata": {
        "id": "m0MCqLu_xh6v"
      },
      "source": [
        "count=0\n",
        "cls=[]\n",
        "for k in encoder.classes_:\n",
        "  count+=1\n",
        "  cls.append(k)\n",
        "\n",
        "print(count,cls)"
      ],
      "execution_count": null,
      "outputs": []
    },
    {
      "cell_type": "code",
      "metadata": {
        "id": "LLUOmYGvxEqX",
        "colab": {
          "base_uri": "https://localhost:8080/"
        },
        "outputId": "e9b49207-0438-4689-cdce-bd4da4726ef6"
      },
      "source": [
        "X.shape"
      ],
      "execution_count": null,
      "outputs": [
        {
          "output_type": "execute_result",
          "data": {
            "text/plain": [
              "(58702, 26)"
            ]
          },
          "metadata": {
            "tags": []
          },
          "execution_count": 60
        }
      ]
    },
    {
      "cell_type": "code",
      "metadata": {
        "id": "dyx2SwS4CYBO",
        "colab": {
          "base_uri": "https://localhost:8080/"
        },
        "outputId": "7110b323-64b7-4ecc-f14c-6183cf31cd3d"
      },
      "source": [
        "from keras.layers import Conv2D, MaxPooling2D\n",
        "from keras.layers import Dense, Dropout, Flatten\n",
        "from keras.models import Sequential\n",
        "from keras.layers import Dense\n",
        "from keras.wrappers.scikit_learn import KerasClassifier\n",
        "from keras.utils import np_utils\n",
        "from sklearn.model_selection import cross_val_score\n",
        "from sklearn.model_selection import KFold\n",
        "from sklearn.preprocessing import LabelEncoder\n",
        "from sklearn.pipeline import Pipeline\n",
        "from keras import optimizers\n",
        "from keras.layers.advanced_activations import ELU, PReLU, LeakyReLU\n",
        "from keras.layers import Dense, Dropout, Activation, Flatten\n",
        "!pip install keras_metrics\n",
        "import keras_metrics\n",
        "from keras import layers\n",
        "\n"
      ],
      "execution_count": 2,
      "outputs": [
        {
          "output_type": "stream",
          "text": [
            "Collecting keras_metrics\n",
            "  Downloading https://files.pythonhosted.org/packages/32/c9/a87420da8e73de944e63a8e9cdcfb1f03ca31a7c4cdcdbd45d2cdf13275a/keras_metrics-1.1.0-py2.py3-none-any.whl\n",
            "Requirement already satisfied: Keras>=2.1.5 in /usr/local/lib/python3.6/dist-packages (from keras_metrics) (2.4.3)\n",
            "Requirement already satisfied: scipy>=0.14 in /usr/local/lib/python3.6/dist-packages (from Keras>=2.1.5->keras_metrics) (1.4.1)\n",
            "Requirement already satisfied: pyyaml in /usr/local/lib/python3.6/dist-packages (from Keras>=2.1.5->keras_metrics) (3.13)\n",
            "Requirement already satisfied: numpy>=1.9.1 in /usr/local/lib/python3.6/dist-packages (from Keras>=2.1.5->keras_metrics) (1.18.5)\n",
            "Requirement already satisfied: h5py in /usr/local/lib/python3.6/dist-packages (from Keras>=2.1.5->keras_metrics) (2.10.0)\n",
            "Requirement already satisfied: six in /usr/local/lib/python3.6/dist-packages (from h5py->Keras>=2.1.5->keras_metrics) (1.15.0)\n",
            "Installing collected packages: keras-metrics\n",
            "Successfully installed keras-metrics-1.1.0\n"
          ],
          "name": "stdout"
        }
      ]
    },
    {
      "cell_type": "markdown",
      "metadata": {
        "id": "ngFrAUh6CYBh"
      },
      "source": [
        "# **ANN Model Training**"
      ]
    },
    {
      "cell_type": "code",
      "metadata": {
        "id": "IG_7tFDcSeyD"
      },
      "source": [
        "model = Sequential()\n",
        "model.add(layers.Dense(512, activation='relu', input_shape=(X_train.shape[1],)))\n",
        "#model.add(layers.Dropout(0.25))\n",
        "model.add(layers.Dense(256, activation='relu'))\n",
        "#model.add(layers.Dropout(0.25))\n",
        "model.add(layers.Dense(128, activation='relu'))\n",
        "#model.add(layers.Dropout(0.25))\n",
        "model.add(layers.Dense(80, activation='sigmoid'))\n",
        "model.compile(optimizer='adam',\n",
        "              loss='sparse_categorical_crossentropy',\n",
        "              metrics=['accuracy'])"
      ],
      "execution_count": 29,
      "outputs": []
    },
    {
      "cell_type": "code",
      "metadata": {
        "colab": {
          "base_uri": "https://localhost:8080/"
        },
        "id": "p_tIf5i609Ud",
        "outputId": "d1ba92fb-7f1f-4662-e40e-ad47cd82302f"
      },
      "source": [
        "model.summary()"
      ],
      "execution_count": 38,
      "outputs": [
        {
          "output_type": "stream",
          "text": [
            "Model: \"sequential_7\"\n",
            "_________________________________________________________________\n",
            "Layer (type)                 Output Shape              Param #   \n",
            "=================================================================\n",
            "dense_20 (Dense)             (None, 512)               13824     \n",
            "_________________________________________________________________\n",
            "dense_21 (Dense)             (None, 256)               131328    \n",
            "_________________________________________________________________\n",
            "dense_22 (Dense)             (None, 128)               32896     \n",
            "_________________________________________________________________\n",
            "dense_23 (Dense)             (None, 80)                10320     \n",
            "=================================================================\n",
            "Total params: 188,368\n",
            "Trainable params: 188,368\n",
            "Non-trainable params: 0\n",
            "_________________________________________________________________\n"
          ],
          "name": "stdout"
        }
      ]
    },
    {
      "cell_type": "code",
      "metadata": {
        "colab": {
          "base_uri": "https://localhost:8080/"
        },
        "id": "16i-_2YyTnrs",
        "outputId": "bcf95770-1762-4df6-df28-161400b09d8a"
      },
      "source": [
        "history=model.fit(X_train,y_train,epochs=10,verbose=1,batch_size=128,shuffle=True)"
      ],
      "execution_count": null,
      "outputs": [
        {
          "output_type": "stream",
          "text": [
            "Epoch 1/10\n",
            "156/156 [==============================] - 0s 3ms/step - loss: 1.2065 - accuracy: 0.7490\n",
            "Epoch 2/10\n",
            "156/156 [==============================] - 0s 3ms/step - loss: 0.1334 - accuracy: 0.9707\n",
            "Epoch 3/10\n",
            "156/156 [==============================] - 0s 3ms/step - loss: 0.0974 - accuracy: 0.9785\n",
            "Epoch 4/10\n",
            "156/156 [==============================] - 0s 3ms/step - loss: 0.0793 - accuracy: 0.9825\n",
            "Epoch 5/10\n",
            "156/156 [==============================] - 0s 3ms/step - loss: 0.0662 - accuracy: 0.9861\n",
            "Epoch 6/10\n",
            "156/156 [==============================] - 0s 3ms/step - loss: 0.0610 - accuracy: 0.9871\n",
            "Epoch 7/10\n",
            "156/156 [==============================] - 0s 3ms/step - loss: 0.0515 - accuracy: 0.9889\n",
            "Epoch 8/10\n",
            "156/156 [==============================] - 0s 3ms/step - loss: 0.0511 - accuracy: 0.9884\n",
            "Epoch 9/10\n",
            "156/156 [==============================] - 0s 2ms/step - loss: 0.0501 - accuracy: 0.9887\n",
            "Epoch 10/10\n",
            "156/156 [==============================] - 0s 3ms/step - loss: 0.0479 - accuracy: 0.9899\n"
          ],
          "name": "stdout"
        }
      ]
    },
    {
      "cell_type": "code",
      "metadata": {
        "colab": {
          "base_uri": "https://localhost:8080/"
        },
        "id": "yWwq7EE-UaEv",
        "outputId": "11cbf4cd-72fc-44ad-f79d-2110c584f6e2"
      },
      "source": [
        "model.evaluate(X_test,y_test,verbose=1,batch_size=128)"
      ],
      "execution_count": null,
      "outputs": [
        {
          "output_type": "stream",
          "text": [
            "67/67 [==============================] - 0s 2ms/step - loss: 0.0851 - accuracy: 0.9808\n"
          ],
          "name": "stdout"
        },
        {
          "output_type": "execute_result",
          "data": {
            "text/plain": [
              "[0.08509349822998047, 0.9807714819908142]"
            ]
          },
          "metadata": {
            "tags": []
          },
          "execution_count": 9
        }
      ]
    },
    {
      "cell_type": "code",
      "metadata": {
        "id": "biHNbCGf0oT6"
      },
      "source": [
        "model.save_weights('/content/drive/MyDrive/btech project/voice-classification-master/ann_weights80.h5')"
      ],
      "execution_count": null,
      "outputs": []
    }
  ]
}